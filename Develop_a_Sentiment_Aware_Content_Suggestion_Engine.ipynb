{
  "nbformat": 4,
  "nbformat_minor": 0,
  "metadata": {
    "colab": {
      "provenance": [],
      "authorship_tag": "ABX9TyMmLIqZbODd6T5oepaA8BuU",
      "include_colab_link": true
    },
    "kernelspec": {
      "name": "python3",
      "display_name": "Python 3"
    },
    "language_info": {
      "name": "python"
    }
  },
  "cells": [
    {
      "cell_type": "markdown",
      "metadata": {
        "id": "view-in-github",
        "colab_type": "text"
      },
      "source": [
        "<a href=\"https://colab.research.google.com/github/k-dinakaran/automation-of-wordpress-post-publication-using-AI-tools/blob/main/Develop_a_Sentiment_Aware_Content_Suggestion_Engine.ipynb\" target=\"_parent\"><img src=\"https://colab.research.google.com/assets/colab-badge.svg\" alt=\"Open In Colab\"/></a>"
      ]
    },
    {
      "cell_type": "code",
      "execution_count": null,
      "metadata": {
        "colab": {
          "base_uri": "https://localhost:8080/"
        },
        "id": "DFuX6Hh2MIVj",
        "outputId": "f97d067a-82b9-4d0a-fd80-5715bc4225ec"
      },
      "outputs": [
        {
          "output_type": "stream",
          "name": "stdout",
          "text": [
            "Requirement already satisfied: vaderSentiment in /usr/local/lib/python3.10/dist-packages (3.3.2)\n",
            "Requirement already satisfied: requests in /usr/local/lib/python3.10/dist-packages (from vaderSentiment) (2.32.3)\n",
            "Requirement already satisfied: charset-normalizer<4,>=2 in /usr/local/lib/python3.10/dist-packages (from requests->vaderSentiment) (3.3.2)\n",
            "Requirement already satisfied: idna<4,>=2.5 in /usr/local/lib/python3.10/dist-packages (from requests->vaderSentiment) (3.10)\n",
            "Requirement already satisfied: urllib3<3,>=1.21.1 in /usr/local/lib/python3.10/dist-packages (from requests->vaderSentiment) (2.2.3)\n",
            "Requirement already satisfied: certifi>=2017.4.17 in /usr/local/lib/python3.10/dist-packages (from requests->vaderSentiment) (2024.8.30)\n"
          ]
        }
      ],
      "source": [
        "pip install vaderSentiment"
      ]
    },
    {
      "cell_type": "code",
      "source": [
        "# Import necessary libraries\n",
        "import pandas as pd\n",
        "from vaderSentiment.vaderSentiment import SentimentIntensityAnalyzer\n",
        "\n",
        "# Initialize VADER sentiment analyzer\n",
        "analyzer = SentimentIntensityAnalyzer()\n",
        "\n",
        "# Load the dataset from a CSV file\n",
        "# Replace 'path_to_your_dataset.csv' with the actual path to your dataset\n",
        "dataset_path = '/content/_sentiment_aware.csv'\n",
        "dataset = pd.read_csv(dataset_path)\n",
        "\n",
        "# Function to analyze sentiment of a given text using VADER\n",
        "def analyze_sentiment(text):\n",
        "    sentiment_scores = analyzer.polarity_scores(text)\n",
        "    if sentiment_scores['compound'] >= 0.05:\n",
        "        return \"Positive\"\n",
        "    elif sentiment_scores['compound'] <= -0.05:\n",
        "        return \"Negative\"\n",
        "    else:\n",
        "        return \"Neutral\"\n",
        "\n",
        "# Function to suggest content based on sentiment\n",
        "def suggest_content(sentiment):\n",
        "    # Filter the dataset based on the detected sentiment\n",
        "    matching_rows = dataset[dataset['Sentiment'] == sentiment]\n",
        "\n",
        "    # If there's at least one match, return the first suggestion\n",
        "    if not matching_rows.empty:\n",
        "        return matching_rows['Suggested_Content'].values[0]\n",
        "\n",
        "    return \"No relevant content found.\"\n",
        "\n",
        "# Main function to run the sentiment-aware content suggestion engine\n",
        "def sentiment_aware_suggestion_engine(user_input):\n",
        "    # Analyze sentiment of the user input\n",
        "    sentiment = analyze_sentiment(user_input)\n",
        "    print(f\"Detected Sentiment: {sentiment}\")\n",
        "\n",
        "    # Get content suggestion based on the sentiment\n",
        "    suggestion = suggest_content(sentiment)\n",
        "    print(f\"Suggested Content: {suggestion}\")\n",
        "    return suggestion\n",
        "\n",
        "# Example usage\n",
        "user_input = input(\"Enter your feedback: \")\n",
        "sentiment_aware_suggestion_engine(user_input)"
      ],
      "metadata": {
        "colab": {
          "base_uri": "https://localhost:8080/",
          "height": 87
        },
        "id": "U4n7ouPOMMNV",
        "outputId": "d6e8a279-aeb9-4843-eb73-8747dfe01077"
      },
      "execution_count": null,
      "outputs": [
        {
          "output_type": "stream",
          "name": "stdout",
          "text": [
            "Enter your feedback: This product is amazing, I love it!\n",
            "Detected Sentiment: Positive\n",
            "Suggested Content: Explore the new features of our premium version!\n"
          ]
        },
        {
          "output_type": "execute_result",
          "data": {
            "text/plain": [
              "'Explore the new features of our premium version!'"
            ],
            "application/vnd.google.colaboratory.intrinsic+json": {
              "type": "string"
            }
          },
          "metadata": {},
          "execution_count": 6
        }
      ]
    },
    {
      "cell_type": "code",
      "source": [],
      "metadata": {
        "id": "gErBP2uuMlRz"
      },
      "execution_count": null,
      "outputs": []
    }
  ]
}