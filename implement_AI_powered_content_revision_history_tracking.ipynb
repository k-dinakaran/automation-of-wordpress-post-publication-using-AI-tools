{
  "nbformat": 4,
  "nbformat_minor": 0,
  "metadata": {
    "colab": {
      "provenance": [],
      "authorship_tag": "ABX9TyNAUIGxKv1OWFUMdpv64yAK",
      "include_colab_link": true
    },
    "kernelspec": {
      "name": "python3",
      "display_name": "Python 3"
    },
    "language_info": {
      "name": "python"
    }
  },
  "cells": [
    {
      "cell_type": "markdown",
      "metadata": {
        "id": "view-in-github",
        "colab_type": "text"
      },
      "source": [
        "<a href=\"https://colab.research.google.com/github/k-dinakaran/automation-of-wordpress-post-publication-using-AI-tools/blob/main/implement_AI_powered_content_revision_history_tracking.ipynb\" target=\"_parent\"><img src=\"https://colab.research.google.com/assets/colab-badge.svg\" alt=\"Open In Colab\"/></a>"
      ]
    },
    {
      "cell_type": "code",
      "execution_count": null,
      "metadata": {
        "colab": {
          "base_uri": "https://localhost:8080/"
        },
        "id": "bx_hTepTzdMq",
        "outputId": "e090f925-6c98-439e-b75b-c8f2ee3ffc14"
      },
      "outputs": [
        {
          "output_type": "stream",
          "name": "stdout",
          "text": [
            "Collecting GitPython\n",
            "  Downloading GitPython-3.1.43-py3-none-any.whl.metadata (13 kB)\n",
            "Requirement already satisfied: nltk in /usr/local/lib/python3.10/dist-packages (3.8.1)\n",
            "Collecting gitdb<5,>=4.0.1 (from GitPython)\n",
            "  Downloading gitdb-4.0.11-py3-none-any.whl.metadata (1.2 kB)\n",
            "Requirement already satisfied: click in /usr/local/lib/python3.10/dist-packages (from nltk) (8.1.7)\n",
            "Requirement already satisfied: joblib in /usr/local/lib/python3.10/dist-packages (from nltk) (1.4.2)\n",
            "Requirement already satisfied: regex>=2021.8.3 in /usr/local/lib/python3.10/dist-packages (from nltk) (2024.9.11)\n",
            "Requirement already satisfied: tqdm in /usr/local/lib/python3.10/dist-packages (from nltk) (4.66.5)\n",
            "Collecting smmap<6,>=3.0.1 (from gitdb<5,>=4.0.1->GitPython)\n",
            "  Downloading smmap-5.0.1-py3-none-any.whl.metadata (4.3 kB)\n",
            "Downloading GitPython-3.1.43-py3-none-any.whl (207 kB)\n",
            "\u001b[2K   \u001b[90m━━━━━━━━━━━━━━━━━━━━━━━━━━━━━━━━━━━━━━━━\u001b[0m \u001b[32m207.3/207.3 kB\u001b[0m \u001b[31m5.3 MB/s\u001b[0m eta \u001b[36m0:00:00\u001b[0m\n",
            "\u001b[?25hDownloading gitdb-4.0.11-py3-none-any.whl (62 kB)\n",
            "\u001b[2K   \u001b[90m━━━━━━━━━━━━━━━━━━━━━━━━━━━━━━━━━━━━━━━━\u001b[0m \u001b[32m62.7/62.7 kB\u001b[0m \u001b[31m4.7 MB/s\u001b[0m eta \u001b[36m0:00:00\u001b[0m\n",
            "\u001b[?25hDownloading smmap-5.0.1-py3-none-any.whl (24 kB)\n",
            "Installing collected packages: smmap, gitdb, GitPython\n",
            "Successfully installed GitPython-3.1.43 gitdb-4.0.11 smmap-5.0.1\n"
          ]
        }
      ],
      "source": [
        "pip install GitPython nltk\n"
      ]
    },
    {
      "cell_type": "code",
      "source": [
        "import git\n",
        "import os\n",
        "from datetime import datetime\n",
        "import nltk\n",
        "from nltk.probability import FreqDist\n",
        "from nltk.tokenize import word_tokenize\n",
        "\n",
        "# Download nltk resources\n",
        "nltk.download('punkt')\n",
        "\n",
        "# Set up repository for tracking\n",
        "def initialize_repo(repo_path):\n",
        "    if not os.path.exists(repo_path):\n",
        "        os.makedirs(repo_path)  # Create the directory if it doesn't exist\n",
        "    repo = git.Repo.init(repo_path)\n",
        "    return repo\n",
        "\n",
        "# Save the content version to the repository\n",
        "def save_revision(repo, content, file_path, user_name):\n",
        "    # Ensure the directory exists\n",
        "    os.makedirs(os.path.dirname(file_path), exist_ok=True)\n",
        "\n",
        "    # Ensure the file exists by creating or opening it in write mode\n",
        "    with open(file_path, 'w') as file:\n",
        "        file.write(content)\n",
        "\n",
        "    # Add the file to the Git index and commit\n",
        "    repo.index.add([file_path])\n",
        "    repo.index.commit(f\"Content updated by {user_name} on {datetime.now()}\")\n",
        "\n",
        "# Compare revisions and detect changes\n",
        "def detect_changes(repo, file_path):\n",
        "    prev_commit = repo.head.commit.parents[0] if repo.head.commit.parents else None\n",
        "    if prev_commit:\n",
        "        diff = prev_commit.diff(repo.head.commit, paths=file_path)\n",
        "        if diff:\n",
        "            changes = diff[0].diff\n",
        "            return changes\n",
        "    return \"No changes detected.\"\n",
        "\n",
        "# Track keyword density changes\n",
        "def track_keyword_changes(content):\n",
        "    words = word_tokenize(content.lower())\n",
        "    fdist = FreqDist(words)\n",
        "\n",
        "    keyword_count = {word: count for word, count in fdist.items() if word.isalnum() and len(word) > 3}\n",
        "    return keyword_count\n",
        "\n",
        "# Example to revise content and track\n",
        "def revise_content(repo, file_path, new_content, user_name):\n",
        "    # Save new revision\n",
        "    save_revision(repo, new_content, file_path, user_name)\n",
        "\n",
        "    # Detect changes\n",
        "    changes = detect_changes(repo, file_path)\n",
        "    print(\"Detected Changes:\\n\", changes)\n",
        "\n",
        "    # Track keyword optimization\n",
        "    keyword_density = track_keyword_changes(new_content)\n",
        "    print(\"Updated Keyword Density:\\n\", keyword_density)\n",
        "\n",
        "# Initialize the repo\n",
        "repo_path = '/content/content_revision_history'\n",
        "file_path = os.path.join(repo_path, 'content.txt')\n",
        "repo = initialize_repo(repo_path)\n",
        "\n",
        "# Original content\n",
        "initial_content = input(\"Enter the initial content: \")\n",
        "save_revision(repo, initial_content, file_path, user_name='User A')\n",
        "\n",
        "# Loop to allow multiple revisions\n",
        "while True:\n",
        "    print(\"\\n--- Content Revision ---\")\n",
        "    user_name = input(\"Enter your name (or type 'exit' to quit): \")\n",
        "    if user_name.lower() == 'exit':\n",
        "        break\n",
        "\n",
        "    new_content = input(\"Enter your revised content: \")\n",
        "    revise_content(repo, file_path, new_content, user_name)\n",
        "\n",
        "# Example exit message\n",
        "print(\"Exiting content revision tool.\")\n"
      ],
      "metadata": {
        "colab": {
          "base_uri": "https://localhost:8080/"
        },
        "id": "cJxzwxue2XyP",
        "outputId": "9bb761ce-6274-4cc5-fef6-ff2a56a29dab"
      },
      "execution_count": null,
      "outputs": [
        {
          "output_type": "stream",
          "name": "stderr",
          "text": [
            "[nltk_data] Downloading package punkt to /root/nltk_data...\n",
            "[nltk_data]   Package punkt is already up-to-date!\n"
          ]
        },
        {
          "output_type": "stream",
          "name": "stdout",
          "text": [
            "Enter the initial content: In 2024, SEO remains a critical aspect of digital marketing. Here are the top 10 tips to boost your website’s visibility: 1. Focus on high-quality content. 2. Optimize for mobile users. 3. Utilize social media effectively. 4. Improve site speed. 5. Implement proper keyword research. 6. Build quality backlinks. 7. Use alt tags for images. 8. Regularly update your content. 9. Leverage local SEO strategies. 10. Monitor your analytics for insights.\n",
            "\n",
            "--- Content Revision ---\n",
            "Enter your name (or type 'exit' to quit): Alice\n",
            "Enter your revised content: In 2024, SEO is increasingly important for businesses. Here are essential strategies to enhance your website's performance: 1. Prioritize high-quality, engaging content. 2. Ensure your site is mobile-friendly. 3. Effectively engage with users on social media. 4. Optimize your website’s loading speed. 5. Conduct thorough keyword research for better targeting. 6. Acquire quality backlinks to improve authority. 7. Don't forget to use alt tags for all images. 8. Keep your content fresh and up-to-date. 9. Implement local SEO for better visibility. 10. Analyze your traffic data for continuous improvement.\n",
            "Detected Changes:\n",
            " \n",
            "Updated Keyword Density:\n",
            " {'2024': 1, 'increasingly': 1, 'important': 1, 'businesses': 1, 'here': 1, 'essential': 1, 'strategies': 1, 'enhance': 1, 'your': 5, 'website': 2, 'performance': 1, 'prioritize': 1, 'engaging': 1, 'content': 2, 'ensure': 1, 'site': 1, 'effectively': 1, 'engage': 1, 'with': 1, 'users': 1, 'social': 1, 'media': 1, 'optimize': 1, 'loading': 1, 'speed': 1, 'conduct': 1, 'thorough': 1, 'keyword': 1, 'research': 1, 'better': 2, 'targeting': 1, 'acquire': 1, 'quality': 1, 'backlinks': 1, 'improve': 1, 'authority': 1, 'forget': 1, 'tags': 1, 'images': 1, 'keep': 1, 'fresh': 1, 'implement': 1, 'local': 1, 'visibility': 1, 'analyze': 1, 'traffic': 1, 'data': 1, 'continuous': 1, 'improvement': 1}\n",
            "\n",
            "--- Content Revision ---\n",
            "Enter your name (or type 'exit' to quit): Bob\n",
            "Enter your revised content: In 2024, mastering SEO is vital for success in the digital landscape. Here are the top tips to boost your website's visibility: 1. Create high-quality content that resonates with your audience. 2. Ensure your website is optimized for mobile devices. 3. Utilize social media to connect with your audience. 4. Improve the speed of your site to reduce bounce rates. 5. Focus on effective keyword research and optimization. 6. Build reputable backlinks to enhance your site's credibility. 7. Use descriptive alt tags for all images to boost SEO. 8. Regularly refresh your content to keep it relevant. 9. Take advantage of local SEO to attract nearby customers. 10. Continuously monitor and analyze your website's performance.\n",
            "Detected Changes:\n",
            " \n",
            "Updated Keyword Density:\n",
            " {'2024': 1, 'mastering': 1, 'vital': 1, 'success': 1, 'digital': 1, 'landscape': 1, 'here': 1, 'tips': 1, 'boost': 2, 'your': 8, 'website': 3, 'visibility': 1, 'create': 1, 'content': 2, 'that': 1, 'resonates': 1, 'with': 2, 'audience': 2, 'ensure': 1, 'optimized': 1, 'mobile': 1, 'devices': 1, 'utilize': 1, 'social': 1, 'media': 1, 'connect': 1, 'improve': 1, 'speed': 1, 'site': 2, 'reduce': 1, 'bounce': 1, 'rates': 1, 'focus': 1, 'effective': 1, 'keyword': 1, 'research': 1, 'optimization': 1, 'build': 1, 'reputable': 1, 'backlinks': 1, 'enhance': 1, 'credibility': 1, 'descriptive': 1, 'tags': 1, 'images': 1, 'regularly': 1, 'refresh': 1, 'keep': 1, 'relevant': 1, 'take': 1, 'advantage': 1, 'local': 1, 'attract': 1, 'nearby': 1, 'customers': 1, 'continuously': 1, 'monitor': 1, 'analyze': 1, 'performance': 1}\n",
            "\n",
            "--- Content Revision ---\n",
            "Enter your name (or type 'exit' to quit): AI Assistant\n",
            "Enter your revised content: In 2024, SEO is more crucial than ever for digital marketing strategies. Here are key recommendations to elevate your website's ranking: 1. Invest in creating valuable, high-quality content. 2. Optimize your site for mobile-first indexing. 3. Leverage social media platforms for increased reach. 4. Enhance loading speed to improve user experience. 5. Conduct in-depth keyword research to drive traffic. 6. Acquire backlinks from authoritative websites. 7. Utilize alt text to describe images for better indexing. 8. Keep content updated and relevant for returning visitors. 9. Use local SEO tactics to improve visibility in local searches. 10. Regularly review analytics to adapt strategies accordingly.\n",
            "Detected Changes:\n",
            " \n",
            "Updated Keyword Density:\n",
            " {'2024': 1, 'more': 1, 'crucial': 1, 'than': 1, 'ever': 1, 'digital': 1, 'marketing': 1, 'strategies': 2, 'here': 1, 'recommendations': 1, 'elevate': 1, 'your': 2, 'website': 1, 'ranking': 1, 'invest': 1, 'creating': 1, 'valuable': 1, 'content': 2, 'optimize': 1, 'site': 1, 'indexing': 2, 'leverage': 1, 'social': 1, 'media': 1, 'platforms': 1, 'increased': 1, 'reach': 1, 'enhance': 1, 'loading': 1, 'speed': 1, 'improve': 2, 'user': 1, 'experience': 1, 'conduct': 1, 'keyword': 1, 'research': 1, 'drive': 1, 'traffic': 1, 'acquire': 1, 'backlinks': 1, 'from': 1, 'authoritative': 1, 'websites': 1, 'utilize': 1, 'text': 1, 'describe': 1, 'images': 1, 'better': 1, 'keep': 1, 'updated': 1, 'relevant': 1, 'returning': 1, 'visitors': 1, 'local': 2, 'tactics': 1, 'visibility': 1, 'searches': 1, 'regularly': 1, 'review': 1, 'analytics': 1, 'adapt': 1, 'accordingly': 1}\n",
            "\n",
            "--- Content Revision ---\n",
            "Enter your name (or type 'exit' to quit): exit\n",
            "Exiting content revision tool.\n"
          ]
        }
      ]
    },
    {
      "cell_type": "code",
      "source": [],
      "metadata": {
        "id": "EipiSQ2M26HW"
      },
      "execution_count": null,
      "outputs": []
    }
  ]
}