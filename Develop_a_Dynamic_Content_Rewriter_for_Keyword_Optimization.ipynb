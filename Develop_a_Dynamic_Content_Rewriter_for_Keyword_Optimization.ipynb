{
  "nbformat": 4,
  "nbformat_minor": 0,
  "metadata": {
    "colab": {
      "provenance": [],
      "authorship_tag": "ABX9TyMfPq5m7hbwJ4HEvKrICe5W",
      "include_colab_link": true
    },
    "kernelspec": {
      "name": "python3",
      "display_name": "Python 3"
    },
    "language_info": {
      "name": "python"
    }
  },
  "cells": [
    {
      "cell_type": "markdown",
      "metadata": {
        "id": "view-in-github",
        "colab_type": "text"
      },
      "source": [
        "<a href=\"https://colab.research.google.com/github/k-dinakaran/automation-of-wordpress-post-publication-using-AI-tools/blob/main/Develop_a_Dynamic_Content_Rewriter_for_Keyword_Optimization.ipynb\" target=\"_parent\"><img src=\"https://colab.research.google.com/assets/colab-badge.svg\" alt=\"Open In Colab\"/></a>"
      ]
    },
    {
      "cell_type": "code",
      "source": [
        "import spacy\n",
        "from collections import Counter\n",
        "import re\n",
        "\n",
        "# Load the spaCy model for NLP\n",
        "nlp = spacy.load('en_core_web_sm')\n",
        "\n",
        "# Function to replace a specific phrase or keyword in the sentence\n",
        "def replace_with_keyword(sentence, keyword):\n",
        "    doc = nlp(sentence)\n",
        "\n",
        "    # Extract nouns and verbs from the sentence\n",
        "    tokens = [token.text for token in doc if token.pos_ in [\"NOUN\", \"VERB\"]]\n",
        "\n",
        "    # Count the occurrences of each token\n",
        "    token_freq = Counter(tokens)\n",
        "\n",
        "    # Sort tokens based on frequency and importance\n",
        "    important_tokens = [token for token, freq in token_freq.most_common() if freq > 0]\n",
        "\n",
        "    # Replace the most common or important token with the keyword\n",
        "    if important_tokens:\n",
        "        new_sentence = re.sub(important_tokens[0], keyword, sentence, flags=re.IGNORECASE)\n",
        "        return new_sentence\n",
        "    else:\n",
        "        return sentence\n",
        "\n",
        "# Function to rewrite the entire content dynamically\n",
        "def dynamic_content_rewriter(content, keyword):\n",
        "    # Split content into sentences\n",
        "    sentences = content.split('. ')\n",
        "    rewritten_content = []\n",
        "\n",
        "    for sentence in sentences:\n",
        "        rewritten_sentence = replace_with_keyword(sentence, keyword)\n",
        "        rewritten_content.append(rewritten_sentence)\n",
        "\n",
        "    # Join rewritten sentences into a complete paragraph\n",
        "    return '. '.join(rewritten_content)\n",
        "\n",
        "# User input for the content and keyword\n",
        "print(\"Welcome to the Dynamic Content Rewriter!\")\n",
        "original_content = input(\"Please enter the content you want to optimize:\\n\")\n",
        "target_keyword = input(\"Please enter the target keyword for optimization:\\n\")\n",
        "\n",
        "# Call the rewriter function with user input\n",
        "rewritten_content = dynamic_content_rewriter(original_content, target_keyword)\n",
        "\n",
        "print(\"\\nOriginal Content:\")\n",
        "print(original_content)\n",
        "print(\"\\nRewritten Content with Keyword Optimization:\")\n",
        "print(rewritten_content)\n"
      ],
      "metadata": {
        "colab": {
          "base_uri": "https://localhost:8080/"
        },
        "id": "YPoVej_5IWTP",
        "outputId": "29bc1401-a799-49a0-ddac-76051acf86fa"
      },
      "execution_count": null,
      "outputs": [
        {
          "output_type": "stream",
          "name": "stdout",
          "text": [
            "Welcome to the Dynamic Content Rewriter!\n",
            "Please enter the content you want to optimize:\n",
            "Content marketing can drive more traffic to your website and increase audience engagement.\n",
            "Please enter the target keyword for optimization:\n",
            "SEO strategy\n",
            "\n",
            "Original Content:\n",
            "Content marketing can drive more traffic to your website and increase audience engagement.\n",
            "\n",
            "Rewritten Content with Keyword Optimization:\n",
            "SEO strategy marketing can drive more traffic to your website and increase audience engagement.\n"
          ]
        }
      ]
    },
    {
      "cell_type": "code",
      "source": [],
      "metadata": {
        "id": "aNKBhyczI2hQ"
      },
      "execution_count": null,
      "outputs": []
    }
  ]
}