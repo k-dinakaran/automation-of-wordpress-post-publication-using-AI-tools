{
  "nbformat": 4,
  "nbformat_minor": 0,
  "metadata": {
    "colab": {
      "provenance": [],
      "authorship_tag": "ABX9TyM4o2164xkb1XTXxxoGVfl+",
      "include_colab_link": true
    },
    "kernelspec": {
      "name": "python3",
      "display_name": "Python 3"
    },
    "language_info": {
      "name": "python"
    }
  },
  "cells": [
    {
      "cell_type": "markdown",
      "metadata": {
        "id": "view-in-github",
        "colab_type": "text"
      },
      "source": [
        "<a href=\"https://colab.research.google.com/github/k-dinakaran/automation-of-wordpress-post-publication-using-AI-tools/blob/main/Develop_an_AI_Based_Tool_for_Segmenting_Large_Content_Databases_by_User_Preferences.ipynb\" target=\"_parent\"><img src=\"https://colab.research.google.com/assets/colab-badge.svg\" alt=\"Open In Colab\"/></a>"
      ]
    },
    {
      "cell_type": "code",
      "execution_count": null,
      "metadata": {
        "colab": {
          "base_uri": "https://localhost:8080/"
        },
        "id": "nH7MgVM3tbst",
        "outputId": "87a8127a-f4dc-4874-df40-0aa59e1a4157"
      },
      "outputs": [
        {
          "name": "stdout",
          "output_type": "stream",
          "text": [
            "Enter the number of user segments you'd like to create (e.g., 2, 3, 4): 2\n"
          ]
        },
        {
          "output_type": "stream",
          "name": "stderr",
          "text": [
            "<ipython-input-1-5db94fc3c444>:43: DeprecationWarning: DataFrameGroupBy.apply operated on the grouping columns. This behavior is deprecated, and in a future version of pandas the grouping columns will be excluded from the operation. Either pass `include_groups=False` to exclude the groupings or explicitly select the grouping columns after groupby to silence this warning.\n",
            "  segment_insights = df.groupby('segment').apply(lambda x: {\n"
          ]
        },
        {
          "output_type": "stream",
          "name": "stdout",
          "text": [
            "\n",
            "User Segmentation Insights:\n",
            "   segment                                           Insights\n",
            "0        0  {'Top Content Titles': ['10 Tips for Fitness',...\n",
            "1        1  {'Top Content Titles': ['Mindfulness Meditatio...\n",
            "\n",
            "Enter a segment number (0 to 1) to see recommended content: 1\n",
            "\n",
            "Recommended Content for Segment 1:\n",
            "['Mindfulness Meditation', 'Healthy Eating Habits', 'Yoga Basics', 'Nutrition for Energy', 'Dealing with Anxiety', 'Mindful Living', 'Building Muscle Strength']\n"
          ]
        }
      ],
      "source": [
        "import pandas as pd\n",
        "import numpy as np\n",
        "from sklearn.feature_extraction.text import TfidfVectorizer\n",
        "from sklearn.cluster import KMeans\n",
        "from sklearn.preprocessing import MinMaxScaler\n",
        "\n",
        "# Sample Dataset\n",
        "data = {\n",
        "    'user_id': [1, 2, 3, 4, 5, 1, 2, 3, 4, 5],\n",
        "    'content_id': [101, 102, 103, 104, 105, 106, 107, 108, 109, 110],\n",
        "    'content_title': [\n",
        "        '10 Tips for Fitness', 'Mindfulness Meditation', 'Healthy Eating Habits',\n",
        "        'Strength Training Guide', 'Yoga Basics', 'Nutrition for Energy',\n",
        "        'Dealing with Anxiety', 'Quick Workout Routines', 'Mindful Living',\n",
        "        'Building Muscle Strength'\n",
        "    ],\n",
        "    'user_preference_score': [5, 3, 4, 5, 2, 4, 3, 5, 2, 4]\n",
        "}\n",
        "df = pd.DataFrame(data)\n",
        "\n",
        "# Step 1: Process Text Data\n",
        "vectorizer = TfidfVectorizer(stop_words='english')\n",
        "content_matrix = vectorizer.fit_transform(df['content_title'])\n",
        "\n",
        "# Step 2: Combine Text Features with User Preferences\n",
        "df['user_preference_score'] = MinMaxScaler().fit_transform(df[['user_preference_score']])\n",
        "content_with_preferences = np.hstack([content_matrix.toarray(), df[['user_preference_score']].values])\n",
        "\n",
        "# Step 3: Get User Input for Number of Segments\n",
        "try:\n",
        "    num_clusters = int(input(\"Enter the number of user segments you'd like to create (e.g., 2, 3, 4): \"))\n",
        "    if num_clusters < 1:\n",
        "        raise ValueError(\"Number of segments should be at least 1.\")\n",
        "except ValueError as e:\n",
        "    print(f\"Invalid input: {e}\")\n",
        "    num_clusters = 3  # Default to 3 segments\n",
        "\n",
        "# Step 4: Apply Clustering\n",
        "kmeans = KMeans(n_clusters=num_clusters, random_state=42)\n",
        "df['segment'] = kmeans.fit_predict(content_with_preferences)\n",
        "\n",
        "# Step 5: Generate Segment Insights\n",
        "segment_insights = df.groupby('segment').apply(lambda x: {\n",
        "    'Top Content Titles': x['content_title'].tolist(),\n",
        "    'Average Preference Score': x['user_preference_score'].mean()\n",
        "}).to_frame(name='Insights').reset_index()\n",
        "\n",
        "# Display Segmentation Insights\n",
        "print(\"\\nUser Segmentation Insights:\")\n",
        "print(segment_insights)\n",
        "\n",
        "# Step 6: Recommendation Function Based on Segment\n",
        "def recommend_content_for_segment(segment_id):\n",
        "    \"\"\"Recommend content titles for a given segment ID.\"\"\"\n",
        "    segment_data = df[df['segment'] == segment_id]\n",
        "    return segment_data['content_title'].tolist()\n",
        "\n",
        "# Step 7: Get User Input for Content Recommendations\n",
        "try:\n",
        "    segment_id = int(input(f\"\\nEnter a segment number (0 to {num_clusters-1}) to see recommended content: \"))\n",
        "    if segment_id < 0 or segment_id >= num_clusters:\n",
        "        raise ValueError(\"Segment number out of range.\")\n",
        "    print(f\"\\nRecommended Content for Segment {segment_id}:\")\n",
        "    print(recommend_content_for_segment(segment_id))\n",
        "except ValueError as e:\n",
        "    print(f\"Invalid input: {e}\")\n"
      ]
    },
    {
      "cell_type": "code",
      "source": [],
      "metadata": {
        "id": "SoZs_5ibtiQ9"
      },
      "execution_count": null,
      "outputs": []
    }
  ]
}