{
  "nbformat": 4,
  "nbformat_minor": 0,
  "metadata": {
    "colab": {
      "provenance": [],
      "authorship_tag": "ABX9TyM7f0IyP9ip9pL3q7EmmcX3",
      "include_colab_link": true
    },
    "kernelspec": {
      "name": "python3",
      "display_name": "Python 3"
    },
    "language_info": {
      "name": "python"
    }
  },
  "cells": [
    {
      "cell_type": "markdown",
      "metadata": {
        "id": "view-in-github",
        "colab_type": "text"
      },
      "source": [
        "<a href=\"https://colab.research.google.com/github/k-dinakaran/automation-of-wordpress-post-publication-using-AI-tools/blob/main/build_an_AI_powered_content_suggestion_engine_for_podcast_creators.ipynb\" target=\"_parent\"><img src=\"https://colab.research.google.com/assets/colab-badge.svg\" alt=\"Open In Colab\"/></a>"
      ]
    },
    {
      "cell_type": "code",
      "execution_count": 1,
      "metadata": {
        "colab": {
          "base_uri": "https://localhost:8080/"
        },
        "id": "krajLmFYh7VV",
        "outputId": "441c5293-d645-42d2-db55-80385e6e0fbf"
      },
      "outputs": [
        {
          "output_type": "stream",
          "name": "stdout",
          "text": [
            "Enter the title of a podcast you like: AI in Daily Life\n",
            "\n",
            "Recommended Episodes:\n",
            "                  Title                                        Description\n",
            "3            AI and Art     Examining how AI is influencing the art world.\n",
            "1    Mental Health Tech   How technology is used to support mental health.\n",
            "2  Future of Blockchain  Discussing innovations and challenges in block...\n"
          ]
        }
      ],
      "source": [
        "# Import necessary libraries\n",
        "import pandas as pd\n",
        "from sklearn.feature_extraction.text import TfidfVectorizer\n",
        "from sklearn.metrics.pairwise import linear_kernel\n",
        "\n",
        "# Sample data: Podcast metadata\n",
        "data = {\n",
        "    'Podcast_ID': [1, 2, 3, 4, 5],\n",
        "    'Title': ['AI in Daily Life', 'Mental Health Tech', 'Future of Blockchain',\n",
        "              'AI and Art', 'Tech and Well-being'],\n",
        "    'Description': [\n",
        "        'Exploring the applications of AI in everyday life.',\n",
        "        'How technology is used to support mental health.',\n",
        "        'Discussing innovations and challenges in blockchain.',\n",
        "        'Examining how AI is influencing the art world.',\n",
        "        'A look into how tech impacts mental and physical well-being.'\n",
        "    ]\n",
        "}\n",
        "\n",
        "# Create a DataFrame\n",
        "df = pd.DataFrame(data)\n",
        "\n",
        "# Instantiate the TfidfVectorizer\n",
        "tfidf = TfidfVectorizer(stop_words='english')\n",
        "\n",
        "# Generate the TF-IDF matrix by fitting and transforming the data\n",
        "tfidf_matrix = tfidf.fit_transform(df['Description'])\n",
        "\n",
        "# Compute the cosine similarity matrix\n",
        "cosine_sim = linear_kernel(tfidf_matrix, tfidf_matrix)\n",
        "\n",
        "# Function to get content recommendations\n",
        "def get_recommendations(title, cosine_sim=cosine_sim):\n",
        "    # Check if the title exists in the DataFrame\n",
        "    if title not in df['Title'].values:\n",
        "        print(\"Sorry, the podcast title is not found in our database.\")\n",
        "        return pd.DataFrame()\n",
        "\n",
        "    # Get the index of the podcast that matches the title\n",
        "    idx = df.index[df['Title'] == title].tolist()[0]\n",
        "\n",
        "    # Get the pairwise similarity scores of all podcasts with the selected one\n",
        "    sim_scores = list(enumerate(cosine_sim[idx]))\n",
        "\n",
        "    # Sort the podcasts based on similarity scores\n",
        "    sim_scores = sorted(sim_scores, key=lambda x: x[1], reverse=True)\n",
        "\n",
        "    # Get the scores of the 3 most similar podcasts (excluding itself)\n",
        "    sim_scores = sim_scores[1:4]\n",
        "\n",
        "    # Get the podcast indices\n",
        "    podcast_indices = [i[0] for i in sim_scores]\n",
        "\n",
        "    # Return the top 3 most similar podcasts\n",
        "    return df.iloc[podcast_indices][['Title', 'Description']]\n",
        "\n",
        "# Prompt user for input\n",
        "user_input = input(\"Enter the title of a podcast you like: \")\n",
        "\n",
        "# Get and display recommendations\n",
        "recommendations = get_recommendations(user_input)\n",
        "if not recommendations.empty:\n",
        "    print(\"\\nRecommended Episodes:\")\n",
        "    print(recommendations)\n",
        "else:\n",
        "    print(\"Try entering a different podcast title.\")\n"
      ]
    },
    {
      "cell_type": "code",
      "source": [],
      "metadata": {
        "id": "qRgIBj-Kh8Zo"
      },
      "execution_count": null,
      "outputs": []
    }
  ]
}